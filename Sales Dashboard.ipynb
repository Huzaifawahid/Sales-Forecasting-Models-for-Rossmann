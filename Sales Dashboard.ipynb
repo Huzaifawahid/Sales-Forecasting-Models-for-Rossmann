{
 "cells": [
  {
   "cell_type": "code",
   "execution_count": 1,
   "id": "cc0ad80c-eacb-450e-82db-8611ecb55d32",
   "metadata": {},
   "outputs": [
    {
     "name": "stdout",
     "output_type": "stream",
     "text": [
      "Requirement already satisfied: dash in c:\\users\\huzai\\anaconda3\\lib\\site-packages (2.17.1)\n",
      "Requirement already satisfied: plotly in c:\\users\\huzai\\anaconda3\\lib\\site-packages (5.9.0)\n",
      "Requirement already satisfied: pandas in c:\\users\\huzai\\anaconda3\\lib\\site-packages (1.5.3)\n",
      "Requirement already satisfied: Flask<3.1,>=1.0.4 in c:\\users\\huzai\\anaconda3\\lib\\site-packages (from dash) (2.2.2)\n",
      "Requirement already satisfied: Werkzeug<3.1 in c:\\users\\huzai\\anaconda3\\lib\\site-packages (from dash) (2.2.3)\n",
      "Requirement already satisfied: dash-html-components==2.0.0 in c:\\users\\huzai\\anaconda3\\lib\\site-packages (from dash) (2.0.0)\n",
      "Requirement already satisfied: dash-core-components==2.0.0 in c:\\users\\huzai\\anaconda3\\lib\\site-packages (from dash) (2.0.0)\n",
      "Requirement already satisfied: dash-table==5.0.0 in c:\\users\\huzai\\anaconda3\\lib\\site-packages (from dash) (5.0.0)\n",
      "Requirement already satisfied: importlib-metadata in c:\\users\\huzai\\anaconda3\\lib\\site-packages (from dash) (6.0.0)\n",
      "Requirement already satisfied: typing-extensions>=4.1.1 in c:\\users\\huzai\\anaconda3\\lib\\site-packages (from dash) (4.6.3)\n",
      "Requirement already satisfied: requests in c:\\users\\huzai\\anaconda3\\lib\\site-packages (from dash) (2.31.0)\n",
      "Requirement already satisfied: retrying in c:\\users\\huzai\\anaconda3\\lib\\site-packages (from dash) (1.3.4)\n",
      "Requirement already satisfied: nest-asyncio in c:\\users\\huzai\\anaconda3\\lib\\site-packages (from dash) (1.5.6)\n",
      "Requirement already satisfied: setuptools in c:\\users\\huzai\\anaconda3\\lib\\site-packages (from dash) (67.8.0)\n",
      "Requirement already satisfied: tenacity>=6.2.0 in c:\\users\\huzai\\anaconda3\\lib\\site-packages (from plotly) (8.2.2)\n",
      "Requirement already satisfied: python-dateutil>=2.8.1 in c:\\users\\huzai\\anaconda3\\lib\\site-packages (from pandas) (2.8.2)\n",
      "Requirement already satisfied: pytz>=2020.1 in c:\\users\\huzai\\anaconda3\\lib\\site-packages (from pandas) (2022.7)\n",
      "Requirement already satisfied: numpy>=1.21.0 in c:\\users\\huzai\\anaconda3\\lib\\site-packages (from pandas) (1.24.3)\n",
      "Requirement already satisfied: Jinja2>=3.0 in c:\\users\\huzai\\anaconda3\\lib\\site-packages (from Flask<3.1,>=1.0.4->dash) (3.1.2)\n",
      "Requirement already satisfied: itsdangerous>=2.0 in c:\\users\\huzai\\anaconda3\\lib\\site-packages (from Flask<3.1,>=1.0.4->dash) (2.0.1)\n",
      "Requirement already satisfied: click>=8.0 in c:\\users\\huzai\\anaconda3\\lib\\site-packages (from Flask<3.1,>=1.0.4->dash) (8.0.4)\n",
      "Requirement already satisfied: six>=1.5 in c:\\users\\huzai\\anaconda3\\lib\\site-packages (from python-dateutil>=2.8.1->pandas) (1.16.0)\n",
      "Requirement already satisfied: MarkupSafe>=2.1.1 in c:\\users\\huzai\\anaconda3\\lib\\site-packages (from Werkzeug<3.1->dash) (2.1.1)\n",
      "Requirement already satisfied: zipp>=0.5 in c:\\users\\huzai\\anaconda3\\lib\\site-packages (from importlib-metadata->dash) (3.11.0)\n",
      "Requirement already satisfied: charset-normalizer<4,>=2 in c:\\users\\huzai\\anaconda3\\lib\\site-packages (from requests->dash) (2.0.4)\n",
      "Requirement already satisfied: idna<4,>=2.5 in c:\\users\\huzai\\anaconda3\\lib\\site-packages (from requests->dash) (3.4)\n",
      "Requirement already satisfied: urllib3<3,>=1.21.1 in c:\\users\\huzai\\anaconda3\\lib\\site-packages (from requests->dash) (1.26.16)\n",
      "Requirement already satisfied: certifi>=2017.4.17 in c:\\users\\huzai\\anaconda3\\lib\\site-packages (from requests->dash) (2024.2.2)\n",
      "Requirement already satisfied: colorama in c:\\users\\huzai\\anaconda3\\lib\\site-packages (from click>=8.0->Flask<3.1,>=1.0.4->dash) (0.4.6)\n"
     ]
    },
    {
     "name": "stderr",
     "output_type": "stream",
     "text": [
      "C:\\Users\\huzai\\AppData\\Local\\Temp\\ipykernel_12012\\3863576163.py:9: UserWarning: \n",
      "The dash_table package is deprecated. Please replace\n",
      "`import dash_table` with `from dash import dash_table`\n",
      "\n",
      "Also, if you're using any of the table format helpers (e.g. Group), replace \n",
      "`from dash_table.Format import Group` with \n",
      "`from dash.dash_table.Format import Group`\n",
      "  import dash_table\n"
     ]
    },
    {
     "data": {
      "text/plain": [
       "Index(['Store', 'DayOfWeek', 'Date', 'Day', 'Month', 'Year', 'Sales',\n",
       "       'Customers', 'Open', 'Promo', 'StateHoliday', 'SchoolHoliday',\n",
       "       'StoreType', 'Assortment', 'CompetitionDistance',\n",
       "       'CompetitionOpenSinceMonth', 'CompetitionOpenSinceYear', 'Promo2',\n",
       "       'Promo2SinceWeek', 'Promo2SinceYear', 'PromoInterval', 'WeekOfYear',\n",
       "       'Month_name', 'Day_Count', 'CompetitionOpen', 'Promo2Open',\n",
       "       'IsPromo2Month'],\n",
       "      dtype='object')"
      ]
     },
     "execution_count": 1,
     "metadata": {},
     "output_type": "execute_result"
    }
   ],
   "source": [
    "import pandas as pd\n",
    "!pip install dash plotly pandas\n",
    "# Load your data\n",
    "df = pd.read_csv('Prediction_file.csv')  # Replace with your actual file path\n",
    "import pandas as pd\n",
    "import dash\n",
    "from dash import dcc, html, Input, Output, State\n",
    "import plotly.graph_objs as go\n",
    "import dash_table\n",
    "df.columns"
   ]
  },
  {
   "cell_type": "code",
   "execution_count": 2,
   "id": "515204c9-e518-4362-a027-f6476b8d4dbe",
   "metadata": {},
   "outputs": [
    {
     "data": {
      "text/html": [
       "\n",
       "        <iframe\n",
       "            width=\"100%\"\n",
       "            height=\"650\"\n",
       "            src=\"http://127.0.0.1:8050/\"\n",
       "            frameborder=\"0\"\n",
       "            allowfullscreen\n",
       "            \n",
       "        ></iframe>\n",
       "        "
      ],
      "text/plain": [
       "<IPython.lib.display.IFrame at 0x15088f17dd0>"
      ]
     },
     "metadata": {},
     "output_type": "display_data"
    }
   ],
   "source": [
    "import dash\n",
    "from dash import dcc, html, Input, Output\n",
    "import dash_table\n",
    "import pandas as pd\n",
    "import plotly.graph_objects as go\n",
    "\n",
    "# Initialize the Dash app\n",
    "app = dash.Dash(__name__)\n",
    "\n",
    "app.layout = html.Div([\n",
    "    html.H1(\"Sales Dashboard\"),\n",
    "    html.Div([\n",
    "        html.Label(\"Enter Store ID (max 1115):\"),\n",
    "        dcc.Input(id='store-id', type='number', value=None, min=1, max=1115, step=1, debounce=True),\n",
    "    ]),\n",
    "    html.Div([\n",
    "        dcc.Graph(id='sales-chart', className='six columns'),\n",
    "        dcc.Graph(id='monthly-sales-chart', className='six columns')\n",
    "    ], className='row'),\n",
    "    html.Div([\n",
    "        dcc.Graph(id='daywise-sales-chart', className='twelve columns')\n",
    "    ], className='row'),\n",
    "    html.Div([\n",
    "        dcc.Graph(id='dayofweek-sales-chart', className='twelve columns')\n",
    "    ], className='row'),\n",
    "    html.Div([\n",
    "        dcc.Graph(id='average-sales-comparison-chart', className='twelve columns')\n",
    "    ], className='row'),\n",
    "    html.Div([\n",
    "        html.H2(\"Datewise Sales\"),\n",
    "        dash_table.DataTable(id='sales-table',\n",
    "                             columns=[{\"name\": \"Date\", \"id\": \"Date\"}, {\"name\": \"Sales\", \"id\": \"Sales\"}],\n",
    "                             style_table={'overflowX': 'scroll'},\n",
    "                             style_cell={'minWidth': '100px', 'width': '150px', 'maxWidth': '300px', 'textAlign': 'center'})\n",
    "    ], style={'padding': '20px'})\n",
    "])\n",
    "@app.callback(\n",
    "    [Output('sales-chart', 'figure'),\n",
    "     Output('monthly-sales-chart', 'figure'),\n",
    "     Output('daywise-sales-chart', 'figure'),\n",
    "     Output('dayofweek-sales-chart', 'figure'),\n",
    "     Output('average-sales-comparison-chart', 'figure'),\n",
    "     Output('sales-table', 'data')],\n",
    "    [Input('store-id', 'value')]\n",
    ")\n",
    "def update_charts(store_id):\n",
    "    if store_id is None:\n",
    "        raise dash.exceptions.PreventUpdate\n",
    "\n",
    "    # Assuming df is your DataFrame containing all sales data\n",
    "    # Filter data for the selected store ID\n",
    "    store_data = df[df['Store'] == store_id].copy()  # Make a copy to avoid modifying original data\n",
    "\n",
    "    # Create a line chart of daily sales\n",
    "    fig_sales = go.Figure()\n",
    "    fig_sales.add_trace(go.Scatter(x=store_data['Date'], y=store_data['Sales'], mode='lines', name='Daily Sales'))\n",
    "    fig_sales.update_layout(title={'text': f\"Daily Sales for Store ID {store_id}\", 'y':0.9, 'x':0.5, 'xanchor': 'center', 'yanchor': 'top'},\n",
    "                            xaxis_title='Date',\n",
    "                            yaxis_title='Sales')\n",
    "\n",
    "    # Create a bar chart of monthly sales\n",
    "    store_data['Date'] = pd.to_datetime(store_data['Date']).dt.date  # Extract only date part\n",
    "    store_data['Month'] = pd.to_datetime(store_data['Date']).dt.to_period('M')\n",
    "    monthly_sales = store_data.groupby('Month')['Sales'].sum().reset_index()\n",
    "\n",
    "    fig_monthly = go.Figure()\n",
    "    fig_monthly.add_trace(go.Bar(x=monthly_sales['Month'].astype(str), y=monthly_sales['Sales'], name='Monthly Sales',\n",
    "                                 marker_color=['cornflowerblue', 'green']))\n",
    "    fig_monthly.update_layout(title={'text': f\"Monthly Sales for Store ID {store_id}\", 'y':0.9, 'x':0.5, 'xanchor': 'center', 'yanchor': 'top'},\n",
    "                              xaxis_title='Month',\n",
    "                              yaxis_title='Sales',\n",
    "                              barmode='group')  # Display bars in groups\n",
    "\n",
    "    # Create a bar chart of day-wise sales\n",
    "    daily_sales = store_data.groupby('Date')['Sales'].sum().reset_index()\n",
    "\n",
    "    fig_daywise = go.Figure()\n",
    "    fig_daywise.add_trace(go.Bar(x=daily_sales['Date'], y=daily_sales['Sales'], name='Day-wise Sales',\n",
    "                                 marker_color='purple'))\n",
    "    fig_daywise.update_layout(title={'text': f\"Day-wise Sales for Store ID {store_id}\", 'y':0.9, 'x':0.5, 'xanchor': 'center', 'yanchor': 'top'},\n",
    "                              xaxis_title='Date',\n",
    "                              yaxis_title='Sales')\n",
    "\n",
    "    # Create a bar chart of day-of-week sales\n",
    "    store_data['DayOfWeek'] = pd.to_datetime(store_data['Date']).dt.day_name()\n",
    "    dayofweek_sales = store_data.groupby('DayOfWeek')['Sales'].sum().reset_index()\n",
    "\n",
    "    fig_dayofweek = go.Figure()\n",
    "    fig_dayofweek.add_trace(go.Bar(x=dayofweek_sales['DayOfWeek'], y=dayofweek_sales['Sales'], name='Day-of-Week Sales',\n",
    "                                   marker_color='green'))\n",
    "    fig_dayofweek.update_layout(title={'text': f\"Day-of-Week Sales for Store ID {store_id}\", 'y':0.9, 'x':0.5, 'xanchor': 'center', 'yanchor': 'top'},\n",
    "                                xaxis_title='Day of Week',\n",
    "                                yaxis_title='Sales')\n",
    "\n",
    "    # Calculate the daily average sales of all other stores\n",
    "    other_stores_data = df[df['Store'] != store_id]\n",
    "    average_sales_other_stores = other_stores_data.groupby('Date')['Sales'].mean().reset_index()\n",
    "    average_sales_store = store_data.groupby('Date')['Sales'].mean().reset_index()\n",
    "\n",
    "    # Create a line chart to compare daily average sales\n",
    "    fig_average_sales_comparison = go.Figure()\n",
    "    fig_average_sales_comparison.add_trace(go.Scatter(x=average_sales_store['Date'], y=average_sales_store['Sales'],\n",
    "                                                      mode='lines', name=f'Store {store_id} Daily Sales'))\n",
    "    fig_average_sales_comparison.add_trace(go.Scatter(x=average_sales_other_stores['Date'], y=average_sales_other_stores['Sales'],\n",
    "                                                      mode='lines', name='Other Stores Daily Average Sales', line=dict(dash='dash')))\n",
    "    fig_average_sales_comparison.update_layout(\n",
    "    title='Daily Average Sales Comparison',\n",
    "    xaxis_title='Date',\n",
    "    yaxis_title='Average Sales',\n",
    "    legend=dict(font=dict(size=10), orientation='h', yanchor='top', y=0.95, xanchor='right', x=0.98),\n",
    "    margin=dict(l=40, r=40, t=80, b=40),\n",
    "    height=600,\n",
    "    width=1000\n",
    ")\n",
    "\n",
    "\n",
    "    # Prepare data for the sales table, converting date to string for display\n",
    "    sales_table_data = store_data[['Date', 'Sales']].copy()\n",
    "    sales_table_data['Date'] = sales_table_data['Date'].astype(str)\n",
    "\n",
    "    return fig_sales, fig_monthly, fig_daywise, fig_dayofweek, fig_average_sales_comparison, sales_table_data.to_dict('records')\n",
    "if __name__ == '__main__':\n",
    "    app.run_server(port=8050, debug=True)"
   ]
  },
  {
   "cell_type": "code",
   "execution_count": null,
   "id": "4458bc2b-772b-4fe4-a9ff-2ba97612bafc",
   "metadata": {},
   "outputs": [],
   "source": []
  },
  {
   "cell_type": "code",
   "execution_count": null,
   "id": "61a72788-3833-4b79-8b0e-ef5599cf4c8a",
   "metadata": {},
   "outputs": [],
   "source": []
  },
  {
   "cell_type": "code",
   "execution_count": null,
   "id": "9cde1710-394d-46c9-b3e9-3c12f9d55c7d",
   "metadata": {},
   "outputs": [],
   "source": []
  },
  {
   "cell_type": "code",
   "execution_count": null,
   "id": "fc29da81-4d6a-4ba5-85d9-c5497c0ef17e",
   "metadata": {},
   "outputs": [],
   "source": []
  },
  {
   "cell_type": "code",
   "execution_count": null,
   "id": "42c8ee78-ce05-4d06-882b-62efe7a6c551",
   "metadata": {},
   "outputs": [],
   "source": []
  },
  {
   "cell_type": "code",
   "execution_count": null,
   "id": "aa4ed4b8-2faf-41be-8c24-b120bd537c01",
   "metadata": {},
   "outputs": [],
   "source": []
  },
  {
   "cell_type": "code",
   "execution_count": null,
   "id": "ec30d259-250a-4259-a91e-43644798ef4c",
   "metadata": {},
   "outputs": [],
   "source": []
  },
  {
   "cell_type": "code",
   "execution_count": null,
   "id": "0f0248f0-43d0-4a3f-9b9e-de3a75629027",
   "metadata": {},
   "outputs": [],
   "source": []
  },
  {
   "cell_type": "code",
   "execution_count": null,
   "id": "de4f0e75-11de-4f83-8466-498ee5c5e721",
   "metadata": {},
   "outputs": [],
   "source": []
  },
  {
   "cell_type": "code",
   "execution_count": null,
   "id": "dbc6b3f5-344f-4023-9b98-ae80a83382c6",
   "metadata": {},
   "outputs": [],
   "source": []
  },
  {
   "cell_type": "code",
   "execution_count": null,
   "id": "aa2f11af-7091-455d-8269-5cddfd55fb87",
   "metadata": {},
   "outputs": [],
   "source": []
  },
  {
   "cell_type": "code",
   "execution_count": null,
   "id": "bef3fb9e-603f-4e31-b879-f34c07f29a21",
   "metadata": {},
   "outputs": [],
   "source": []
  },
  {
   "cell_type": "code",
   "execution_count": null,
   "id": "60d5880d-c444-41ad-bbfa-b795a9ec7eac",
   "metadata": {},
   "outputs": [],
   "source": []
  },
  {
   "cell_type": "code",
   "execution_count": null,
   "id": "ac698b59-5266-48d0-ae2a-1b2b26ed3581",
   "metadata": {},
   "outputs": [],
   "source": []
  },
  {
   "cell_type": "code",
   "execution_count": null,
   "id": "06e8b9da-2007-43a6-9848-5a8e7605ed4f",
   "metadata": {},
   "outputs": [],
   "source": []
  },
  {
   "cell_type": "code",
   "execution_count": null,
   "id": "aa49e8f3-9cc8-453c-88aa-49d20902ca92",
   "metadata": {},
   "outputs": [],
   "source": []
  },
  {
   "cell_type": "code",
   "execution_count": null,
   "id": "d4798b74-a862-436c-b4a1-e45aa0572053",
   "metadata": {},
   "outputs": [],
   "source": []
  },
  {
   "cell_type": "code",
   "execution_count": null,
   "id": "25fe781d-2413-4ffc-a5c1-104e9b50abaf",
   "metadata": {},
   "outputs": [],
   "source": []
  }
 ],
 "metadata": {
  "kernelspec": {
   "display_name": "Python 3 (ipykernel)",
   "language": "python",
   "name": "python3"
  },
  "language_info": {
   "codemirror_mode": {
    "name": "ipython",
    "version": 3
   },
   "file_extension": ".py",
   "mimetype": "text/x-python",
   "name": "python",
   "nbconvert_exporter": "python",
   "pygments_lexer": "ipython3",
   "version": "3.11.5"
  }
 },
 "nbformat": 4,
 "nbformat_minor": 5
}
